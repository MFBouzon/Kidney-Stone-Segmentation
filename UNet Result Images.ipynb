{
 "cells": [
  {
   "cell_type": "code",
   "execution_count": 1,
   "id": "359156cb-f3d1-43e1-a483-61ad2ea7e0dd",
   "metadata": {},
   "outputs": [
    {
     "name": "stderr",
     "output_type": "stream",
     "text": [
      "2025-03-14 15:31:41.864694: E external/local_xla/xla/stream_executor/cuda/cuda_fft.cc:485] Unable to register cuFFT factory: Attempting to register factory for plugin cuFFT when one has already been registered\n",
      "2025-03-14 15:31:41.886398: E external/local_xla/xla/stream_executor/cuda/cuda_dnn.cc:8454] Unable to register cuDNN factory: Attempting to register factory for plugin cuDNN when one has already been registered\n",
      "2025-03-14 15:31:41.893048: E external/local_xla/xla/stream_executor/cuda/cuda_blas.cc:1452] Unable to register cuBLAS factory: Attempting to register factory for plugin cuBLAS when one has already been registered\n",
      "2025-03-14 15:31:41.977995: I tensorflow/core/platform/cpu_feature_guard.cc:210] This TensorFlow binary is optimized to use available CPU instructions in performance-critical operations.\n",
      "To enable the following instructions: SSE4.1 SSE4.2 AVX AVX2 FMA, in other operations, rebuild TensorFlow with the appropriate compiler flags.\n"
     ]
    }
   ],
   "source": [
    "import tensorflow as tf\n",
    "from tensorflow.python.keras.backend import set_session\n",
    "import os\n",
    "import random\n",
    "import numpy as np\n",
    "\n",
    "\n",
    "from tqdm import tqdm \n",
    "\n",
    "from PIL import Image\n",
    "import cv2\n",
    "from skimage.io import imread, imshow\n",
    "from skimage.transform import resize\n",
    "import matplotlib.pyplot as plt\n",
    "from sklearn.model_selection import train_test_split\n",
    "from sklearn.metrics import accuracy_score\n",
    "from sklearn.metrics import jaccard_score\n",
    "from sklearn.metrics import f1_score\n",
    "from sklearn.metrics import precision_score\n",
    "from sklearn.metrics import recall_score\n",
    "from sklearn.model_selection import KFold"
   ]
  },
  {
   "cell_type": "code",
   "execution_count": 2,
   "id": "6327ddf6-79b4-425d-ab9e-d7bb6c7c1d8b",
   "metadata": {},
   "outputs": [],
   "source": [
    "num_classes = 1\n",
    "k = 5\n",
    "\n",
    "\n",
    "IMG_WIDTH = 512\n",
    "IMG_HEIGHT = 512\n",
    "IMG_CHANNELS = 1\n",
    "\n",
    "DATA_PATH = 'data2/'\n",
    "\n",
    "data_ids = next(os.walk(DATA_PATH+'/image'))[2]\n",
    "data_ids = sorted(data_ids,  key=lambda x: int(x.split('.')[0]))\n",
    "X = np.zeros((len(data_ids), IMG_HEIGHT, IMG_WIDTH, IMG_CHANNELS), dtype=np.uint8)\n",
    "y = np.zeros((len(data_ids), IMG_HEIGHT, IMG_WIDTH, 1), dtype=bool)\n",
    "\n",
    "os.environ['TF_FORCE_GPU_ALLOW_GROWTH'] = 'true'\n",
    "os.environ['TF_GPU_ALLOCATOR']= 'cuda_malloc_async'\n"
   ]
  },
  {
   "cell_type": "code",
   "execution_count": 3,
   "id": "59c948b0-eeb2-4c73-9cf0-48b40620d420",
   "metadata": {},
   "outputs": [
    {
     "name": "stdout",
     "output_type": "stream",
     "text": [
      "Resizing training images and masks\n"
     ]
    },
    {
     "name": "stderr",
     "output_type": "stream",
     "text": [
      "100%|█████████████████████████████████████████████████████████████████████████████████| 490/490 [00:13<00:00, 37.44it/s]\n"
     ]
    }
   ],
   "source": [
    "print('Resizing training images and masks')\n",
    "for n, id_ in tqdm(enumerate(data_ids), total=len(data_ids)):   \n",
    "    path = DATA_PATH\n",
    "    img = imread(path + '/image/' + id_, as_gray=True)[:,:]\n",
    "    img = img.reshape(img.shape[0], img.shape[1], IMG_CHANNELS)\n",
    "    img = resize(img, (IMG_HEIGHT, IMG_WIDTH), mode='constant', preserve_range=True)\n",
    "    X[n] = img  #Fill empty X_train with values from img\n",
    "    \n",
    "    mask = imread(path + 'label/' + id_, as_gray=True)\n",
    "    mask = (mask >= 1)\n",
    "    mask = np.expand_dims(resize(mask, (IMG_HEIGHT, IMG_WIDTH), mode='constant',  \n",
    "                                      preserve_range=True), axis=-1)\n",
    "    y[n] = mask\n",
    "    #plt.axis(\"off\")\n",
    "    #imshow(y[n])\n",
    "    #plt.show()"
   ]
  },
  {
   "cell_type": "code",
   "execution_count": 4,
   "id": "2f0e4677-2854-4c28-9dbd-cbd7182a308f",
   "metadata": {},
   "outputs": [],
   "source": [
    "def display(display_list):\n",
    "  plt.figure(figsize=(15, 15))\n",
    "\n",
    "  title = ['Input image', 'True mask', 'Predicted mask (UNet)', 'Predicted mask (UNet++)', 'Predicted mask (UNet3Plus)']\n",
    "\n",
    "  for i in range(len(display_list)):\n",
    "    plt.subplot(1, len(display_list), i+1)\n",
    "    plt.title(title[i])\n",
    "    plt.imshow(tf.keras.utils.array_to_img(display_list[i]), cmap='gray')\n",
    "    plt.axis('off')\n",
    "  plt.show()"
   ]
  },
  {
   "cell_type": "code",
   "execution_count": 6,
   "id": "f374a067-d648-4c1b-ae3f-6b10f90479b7",
   "metadata": {},
   "outputs": [
    {
     "name": "stderr",
     "output_type": "stream",
     "text": [
      "2024-11-14 11:10:23.117434: I external/local_xla/xla/stream_executor/cuda/cuda_executor.cc:984] could not open file to read NUMA node: /sys/bus/pci/devices/0000:01:00.0/numa_node\n",
      "Your kernel may have been built without NUMA support.\n",
      "2024-11-14 11:10:23.253899: I external/local_xla/xla/stream_executor/cuda/cuda_executor.cc:984] could not open file to read NUMA node: /sys/bus/pci/devices/0000:01:00.0/numa_node\n",
      "Your kernel may have been built without NUMA support.\n",
      "2024-11-14 11:10:23.253948: I external/local_xla/xla/stream_executor/cuda/cuda_executor.cc:984] could not open file to read NUMA node: /sys/bus/pci/devices/0000:01:00.0/numa_node\n",
      "Your kernel may have been built without NUMA support.\n",
      "2024-11-14 11:10:23.255939: I external/local_xla/xla/stream_executor/cuda/cuda_executor.cc:984] could not open file to read NUMA node: /sys/bus/pci/devices/0000:01:00.0/numa_node\n",
      "Your kernel may have been built without NUMA support.\n",
      "2024-11-14 11:10:23.255973: I external/local_xla/xla/stream_executor/cuda/cuda_executor.cc:984] could not open file to read NUMA node: /sys/bus/pci/devices/0000:01:00.0/numa_node\n",
      "Your kernel may have been built without NUMA support.\n",
      "2024-11-14 11:10:23.255990: I external/local_xla/xla/stream_executor/cuda/cuda_executor.cc:984] could not open file to read NUMA node: /sys/bus/pci/devices/0000:01:00.0/numa_node\n",
      "Your kernel may have been built without NUMA support.\n",
      "2024-11-14 11:10:24.472973: I external/local_xla/xla/stream_executor/cuda/cuda_executor.cc:984] could not open file to read NUMA node: /sys/bus/pci/devices/0000:01:00.0/numa_node\n",
      "Your kernel may have been built without NUMA support.\n",
      "2024-11-14 11:10:24.473033: I external/local_xla/xla/stream_executor/cuda/cuda_executor.cc:984] could not open file to read NUMA node: /sys/bus/pci/devices/0000:01:00.0/numa_node\n",
      "Your kernel may have been built without NUMA support.\n",
      "2024-11-14 11:10:24.473039: I tensorflow/core/common_runtime/gpu/gpu_device.cc:2019] Could not identify NUMA node of platform GPU id 0, defaulting to 0.  Your kernel may not have been built with NUMA support.\n",
      "2024-11-14 11:10:24.473048: W tensorflow/core/common_runtime/gpu/gpu_bfc_allocator.cc:47] Overriding orig_value setting because the TF_FORCE_GPU_ALLOW_GROWTH environment variable is set. Original config value was 0.\n",
      "2024-11-14 11:10:24.473053: I tensorflow/core/common_runtime/gpu/gpu_process_state.cc:238] Using CUDA malloc Async allocator for GPU: 0\n",
      "2024-11-14 11:10:24.473277: I external/local_xla/xla/stream_executor/cuda/cuda_executor.cc:984] could not open file to read NUMA node: /sys/bus/pci/devices/0000:01:00.0/numa_node\n",
      "Your kernel may have been built without NUMA support.\n",
      "2024-11-14 11:10:24.473675: I tensorflow/core/common_runtime/gpu/gpu_device.cc:1928] Created device /job:localhost/replica:0/task:0/device:GPU:0 with 9332 MB memory:  -> device: 0, name: NVIDIA GeForce RTX 4070, pci bus id: 0000:01:00.0, compute capability: 8.9\n"
     ]
    }
   ],
   "source": [
    "fold = 3\n",
    "kf = KFold(n_splits=k, shuffle=True, random_state=28)\n",
    "for i, (train_ind, test_ind) in enumerate(kf.split(X)):\n",
    "    if i == (fold-1):\n",
    "        X_train, X_val, y_train, y_val = X[train_ind], X[test_ind], y[train_ind], y[test_ind]\n",
    "        break\n",
    "        \n",
    "modelU = tf.keras.models.load_model('UNET 5-fold models/model_'+str(fold)+'fold.keras')\n",
    "modelUP = tf.keras.models.load_model('UNETPlusPlus 5-fold models/model_'+str(fold)+'fold.keras')\n",
    "modelU3 = tf.keras.models.load_model('UNET3Plus 5-fold models/model_'+str(fold)+'fold.keras')"
   ]
  },
  {
   "cell_type": "code",
   "execution_count": 15,
   "id": "32fdb948",
   "metadata": {},
   "outputs": [],
   "source": [
    "fold = 3\n",
    "\n",
    "modelU = tf.keras.models.load_model('UNET 5-fold models/model_'+str(fold)+'fold.keras')\n",
    "modelUP = tf.keras.models.load_model('UNETPlusPlus 5-fold models/model_'+str(fold)+'fold.keras')\n",
    "modelU3 = tf.keras.models.load_model('UNET3Plus 5-fold models/model_'+str(fold)+'fold.keras')"
   ]
  },
  {
   "cell_type": "code",
   "execution_count": 35,
   "id": "d8de0781-c09a-4d42-8817-84113fb098ae",
   "metadata": {},
   "outputs": [
    {
     "name": "stdout",
     "output_type": "stream",
     "text": [
      "\u001b[1m1/1\u001b[0m \u001b[32m━━━━━━━━━━━━━━━━━━━━\u001b[0m\u001b[37m\u001b[0m \u001b[1m0s\u001b[0m 12ms/step\n",
      "\u001b[1m1/1\u001b[0m \u001b[32m━━━━━━━━━━━━━━━━━━━━\u001b[0m\u001b[37m\u001b[0m \u001b[1m0s\u001b[0m 11ms/step\n",
      "\u001b[1m1/1\u001b[0m \u001b[32m━━━━━━━━━━━━━━━━━━━━\u001b[0m\u001b[37m\u001b[0m \u001b[1m0s\u001b[0m 11ms/step\n"
     ]
    },
    {
     "data": {
      "image/png": "[encoded data removed]",
      "text/plain": [
       "<Figure size 1500x1500 with 5 Axes>"
      ]
     },
     "metadata": {},
     "output_type": "display_data"
    },
    {
     "name": "stdout",
     "output_type": "stream",
     "text": [
      "Dice U-Net: 0.92\n",
      "Dice U-Net++: 0.0\n",
      "Dice U-Net3+: 0.0\n"
     ]
    }
   ],
   "source": [
    "#i = random.randint(0, len(X))\n",
    "i = 211\n",
    "sample_image = X[i]\n",
    "sample_mask = y[i]\n",
    "\n",
    "predictionU = modelU.predict(sample_image[tf.newaxis, ...])[0]\n",
    "predicted_maskU = (predictionU > 0.5).astype(np.uint8)\n",
    "predictionUP = modelUP.predict(sample_image[tf.newaxis, ...])[0]\n",
    "predicted_maskUP = (predictionUP > 0.5).astype(np.uint8)\n",
    "predictionU3 = modelU3.predict(sample_image[tf.newaxis, ...])[0]\n",
    "predicted_maskU3 = (predictionU3 > 0.5).astype(np.uint8)\n",
    "display([sample_image, sample_mask, predicted_maskU, predicted_maskUP, predicted_maskU3])\n",
    "\n",
    "\n",
    "cv2.imwrite(\"Result Images/original\"+str(i)+\".png\", sample_image)\n",
    "cv2.imwrite(\"Result Images/groundtruth\"+str(i)+\".png\", (sample_mask > 0.5).astype(np.uint8)*255)\n",
    "cv2.imwrite(\"Result Images/UNetResult\"+str(i)+\".png\", predicted_maskU*255)\n",
    "cv2.imwrite(\"Result Images/UNetPlusResult\"+str(i)+\".png\", predicted_maskUP*255)\n",
    "cv2.imwrite(\"Result Images/UNet3PlusResult\"+str(i)+\".png\", predicted_maskU3*255)\n",
    "\n",
    "sample_mask = y[i].astype(np.uint8).flatten()\n",
    "predicted_maskU = predicted_maskU.flatten()\n",
    "predicted_maskUP = predicted_maskUP.flatten()\n",
    "predicted_maskU3 = predicted_maskU3.flatten()\n",
    "\n",
    "\n",
    "print(\"Dice U-Net: \"+ str((2*jaccard_score(sample_mask, predicted_maskU))/(1+jaccard_score(sample_mask, predicted_maskU))))\n",
    "print(\"Dice U-Net++: \"+ str((2*jaccard_score(sample_mask, predicted_maskUP))/(1+jaccard_score(sample_mask, predicted_maskUP))))\n",
    "print(\"Dice U-Net3+: \"+ str((2*jaccard_score(sample_mask, predicted_maskU3))/(1+jaccard_score(sample_mask, predicted_maskU3))))"
   ]
  },
  {
   "cell_type": "code",
   "execution_count": 29,
   "id": "8b04afd0",
   "metadata": {},
   "outputs": [
    {
     "name": "stdout",
     "output_type": "stream",
     "text": [
      "\u001b[1m1/1\u001b[0m \u001b[32m━━━━━━━━━━━━━━━━━━━━\u001b[0m\u001b[37m\u001b[0m \u001b[1m0s\u001b[0m 13ms/step\n",
      "\u001b[1m1/1\u001b[0m \u001b[32m━━━━━━━━━━━━━━━━━━━━\u001b[0m\u001b[37m\u001b[0m \u001b[1m0s\u001b[0m 12ms/step\n",
      "\u001b[1m1/1\u001b[0m \u001b[32m━━━━━━━━━━━━━━━━━━━━\u001b[0m\u001b[37m\u001b[0m \u001b[1m0s\u001b[0m 11ms/step\n",
      "\u001b[1m1/1\u001b[0m \u001b[32m━━━━━━━━━━━━━━━━━━━━\u001b[0m\u001b[37m\u001b[0m \u001b[1m0s\u001b[0m 11ms/step\n",
      "\u001b[1m1/1\u001b[0m \u001b[32m━━━━━━━━━━━━━━━━━━━━\u001b[0m\u001b[37m\u001b[0m \u001b[1m0s\u001b[0m 12ms/step\n",
      "\u001b[1m1/1\u001b[0m \u001b[32m━━━━━━━━━━━━━━━━━━━━\u001b[0m\u001b[37m\u001b[0m \u001b[1m0s\u001b[0m 11ms/step\n",
      "\u001b[1m1/1\u001b[0m \u001b[32m━━━━━━━━━━━━━━━━━━━━\u001b[0m\u001b[37m\u001b[0m \u001b[1m0s\u001b[0m 12ms/step\n",
      "\u001b[1m1/1\u001b[0m \u001b[32m━━━━━━━━━━━━━━━━━━━━\u001b[0m\u001b[37m\u001b[0m \u001b[1m0s\u001b[0m 11ms/step\n",
      "\u001b[1m1/1\u001b[0m \u001b[32m━━━━━━━━━━━━━━━━━━━━\u001b[0m\u001b[37m\u001b[0m \u001b[1m0s\u001b[0m 12ms/step\n",
      "\u001b[1m1/1\u001b[0m \u001b[32m━━━━━━━━━━━━━━━━━━━━\u001b[0m\u001b[37m\u001b[0m \u001b[1m0s\u001b[0m 11ms/step\n",
      "\u001b[1m1/1\u001b[0m \u001b[32m━━━━━━━━━━━━━━━━━━━━\u001b[0m\u001b[37m\u001b[0m \u001b[1m0s\u001b[0m 11ms/step\n",
      "\u001b[1m1/1\u001b[0m \u001b[32m━━━━━━━━━━━━━━━━━━━━\u001b[0m\u001b[37m\u001b[0m \u001b[1m0s\u001b[0m 11ms/step\n",
      "\u001b[1m1/1\u001b[0m \u001b[32m━━━━━━━━━━━━━━━━━━━━\u001b[0m\u001b[37m\u001b[0m \u001b[1m0s\u001b[0m 12ms/step\n",
      "\u001b[1m1/1\u001b[0m \u001b[32m━━━━━━━━━━━━━━━━━━━━\u001b[0m\u001b[37m\u001b[0m \u001b[1m0s\u001b[0m 11ms/step\n",
      "\u001b[1m1/1\u001b[0m \u001b[32m━━━━━━━━━━━━━━━━━━━━\u001b[0m\u001b[37m\u001b[0m \u001b[1m0s\u001b[0m 12ms/step\n",
      "\u001b[1m1/1\u001b[0m \u001b[32m━━━━━━━━━━━━━━━━━━━━\u001b[0m\u001b[37m\u001b[0m \u001b[1m0s\u001b[0m 12ms/step\n",
      "\u001b[1m1/1\u001b[0m \u001b[32m━━━━━━━━━━━━━━━━━━━━\u001b[0m\u001b[37m\u001b[0m \u001b[1m0s\u001b[0m 12ms/step\n",
      "\u001b[1m1/1\u001b[0m \u001b[32m━━━━━━━━━━━━━━━━━━━━\u001b[0m\u001b[37m\u001b[0m \u001b[1m0s\u001b[0m 12ms/step\n",
      "\u001b[1m1/1\u001b[0m \u001b[32m━━━━━━━━━━━━━━━━━━━━\u001b[0m\u001b[37m\u001b[0m \u001b[1m0s\u001b[0m 12ms/step\n",
      "\u001b[1m1/1\u001b[0m \u001b[32m━━━━━━━━━━━━━━━━━━━━\u001b[0m\u001b[37m\u001b[0m \u001b[1m0s\u001b[0m 12ms/step\n",
      "\u001b[1m1/1\u001b[0m \u001b[32m━━━━━━━━━━━━━━━━━━━━\u001b[0m\u001b[37m\u001b[0m \u001b[1m0s\u001b[0m 12ms/step\n",
      "\u001b[1m1/1\u001b[0m \u001b[32m━━━━━━━━━━━━━━━━━━━━\u001b[0m\u001b[37m\u001b[0m \u001b[1m0s\u001b[0m 11ms/step\n",
      "\u001b[1m1/1\u001b[0m \u001b[32m━━━━━━━━━━━━━━━━━━━━\u001b[0m\u001b[37m\u001b[0m \u001b[1m0s\u001b[0m 12ms/step\n",
      "\u001b[1m1/1\u001b[0m \u001b[32m━━━━━━━━━━━━━━━━━━━━\u001b[0m\u001b[37m\u001b[0m \u001b[1m0s\u001b[0m 11ms/step\n"
     ]
    }
   ],
   "source": [
    "totalDiceU = []\n",
    "totalDiceUP = []\n",
    "totalDiceU3 = []\n",
    "\n",
    "ureter_stone = range(211, 219)\n",
    "for i in range(211, 219): \n",
    "    #i = 216\n",
    "    sample_image = X[i]\n",
    "    sample_mask = y[i]\n",
    "    \n",
    "    predictionU = modelU.predict(sample_image[tf.newaxis, ...])[0]\n",
    "    predicted_maskU = (predictionU > 0.5).astype(np.uint8)\n",
    "    predictionUP = modelUP.predict(sample_image[tf.newaxis, ...])[0]\n",
    "    predicted_maskUP = (predictionUP > 0.5).astype(np.uint8)\n",
    "    predictionU3 = modelU3.predict(sample_image[tf.newaxis, ...])[0]\n",
    "    predicted_maskU3 = (predictionU3 > 0.5).astype(np.uint8)\n",
    "    #display([sample_image, sample_mask, predicted_maskU, predicted_maskUP, predicted_maskU3])\n",
    "    \n",
    "    \n",
    "    cv2.imwrite(\"Result2/\"+str(i)+\".png\", predicted_maskU*255)\n",
    "    \n",
    "    sample_mask = y[i].astype(np.uint8).flatten()\n",
    "    predicted_maskU = predicted_maskU.flatten()\n",
    "    predicted_maskUP = predicted_maskUP.flatten()\n",
    "    predicted_maskU3 = predicted_maskU3.flatten()\n",
    "    \n",
    "    DiceU = (2*jaccard_score(sample_mask, predicted_maskU))/(1+jaccard_score(sample_mask, predicted_maskU))\n",
    "    DiceUP = (2*jaccard_score(sample_mask, predicted_maskUP))/(1+jaccard_score(sample_mask, predicted_maskUP))\n",
    "    DiceU3 = (2*jaccard_score(sample_mask, predicted_maskU3))/(1+jaccard_score(sample_mask, predicted_maskU3))\n",
    "\n",
    "    if(DiceU != 0):\n",
    "        totalDiceU.append(DiceU)\n",
    "    if(DiceUP != 0):\n",
    "        totalDiceUP.append(DiceUP)\n",
    "    if(DiceU3 != 0):\n",
    "        totalDiceU3.append(DiceU3)\n",
    "    \n",
    "    #print(\"Dice U-Net: \"+ str(DiceU))\n",
    "    #print(\"Dice U-Net++: \"+ str(DiceUP))\n",
    "    #print(\"Dice U-Net3+: \"+ str(DiceU3))"
   ]
  },
  {
   "cell_type": "code",
   "execution_count": 30,
   "id": "a88dbdef-a29a-4655-bfb1-7c626b6be3a6",
   "metadata": {},
   "outputs": [
    {
     "data": {
      "text/plain": [
       "0.9520417010085513"
      ]
     },
     "execution_count": 30,
     "metadata": {},
     "output_type": "execute_result"
    }
   ],
   "source": [
    "np.mean(totalDiceU)"
   ]
  },
  {
   "cell_type": "code",
   "execution_count": 31,
   "id": "342e3bb4-b03a-463c-94e1-e6da3d5ce7c0",
   "metadata": {},
   "outputs": [
    {
     "data": {
      "text/plain": [
       "0.933871843541655"
      ]
     },
     "execution_count": 31,
     "metadata": {},
     "output_type": "execute_result"
    }
   ],
   "source": [
    "np.mean(totalDiceUP)"
   ]
  },
  {
   "cell_type": "code",
   "execution_count": 32,
   "id": "7f510131-3715-45be-afe5-57af1c55b975",
   "metadata": {},
   "outputs": [
    {
     "name": "stderr",
     "output_type": "stream",
     "text": [
      "/home/mbouzon/miniconda3/envs/tf/lib/python3.9/site-packages/numpy/core/fromnumeric.py:3504: RuntimeWarning: Mean of empty slice.\n",
      "  return _methods._mean(a, axis=axis, dtype=dtype,\n",
      "/home/mbouzon/miniconda3/envs/tf/lib/python3.9/site-packages/numpy/core/_methods.py:129: RuntimeWarning: invalid value encountered in scalar divide\n",
      "  ret = ret.dtype.type(ret / rcount)\n"
     ]
    },
    {
     "data": {
      "text/plain": [
       "nan"
      ]
     },
     "execution_count": 32,
     "metadata": {},
     "output_type": "execute_result"
    }
   ],
   "source": [
    "np.mean(totalDiceU3)"
   ]
  },
  {
   "cell_type": "code",
   "execution_count": null,
   "id": "612d8428-8da4-46b2-8877-1de91bec0ca6",
   "metadata": {},
   "outputs": [],
   "source": []
  }
 ],
 "metadata": {
  "kernelspec": {
   "display_name": "Python 3 (ipykernel)",
   "language": "python",
   "name": "python3"
  },
  "language_info": {
   "codemirror_mode": {
    "name": "ipython",
    "version": 3
   },
   "file_extension": ".py",
   "mimetype": "text/x-python",
   "name": "python",
   "nbconvert_exporter": "python",
   "pygments_lexer": "ipython3",
   "version": "3.10.12"
  }
 },
 "nbformat": 4,
 "nbformat_minor": 5
}
