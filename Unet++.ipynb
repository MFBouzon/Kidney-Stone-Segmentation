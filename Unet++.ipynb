{
 "cells": [
  {
   "cell_type": "code",
   "execution_count": null,
   "metadata": {
    "executionInfo": {
     "elapsed": 18570,
     "status": "ok",
     "timestamp": 1730901850043,
     "user": {
      "displayName": "Paulo Henrique",
      "userId": "13955216473685151557"
     },
     "user_tz": 180
    },
    "id": "1JwwvaqGOwHP"
   },
   "outputs": [],
   "source": [
    "import os\n",
    "import numpy as np\n",
    "import cv2\n",
    "from sklearn.model_selection import train_test_split\n",
    "\n",
    "import pandas as pd\n",
    "import matplotlib.pyplot as plt\n",
    "import matplotlib\n",
    "\n",
    "from skimage.io import imread, imshow\n",
    "from skimage.transform import resize\n",
    "\n",
    "import tensorflow as tf\n",
    "from tensorflow.python.keras.backend import set_session\n",
    "from tensorflow.keras import layers, Model\n",
    "\n",
    "\n",
    "import os\n",
    "import random\n",
    "import numpy as np\n",
    "\n",
    "from tqdm import tqdm\n",
    "\n",
    "from PIL import Image\n",
    "from sklearn.metrics import accuracy_score\n",
    "from sklearn.metrics import jaccard_score\n",
    "from sklearn.metrics import f1_score\n",
    "from sklearn.metrics import precision_score\n",
    "from sklearn.metrics import recall_score"
   ]
  },
  {
   "cell_type": "code",
   "execution_count": null,
   "metadata": {
    "executionInfo": {
     "elapsed": 1674,
     "status": "ok",
     "timestamp": 1730902295781,
     "user": {
      "displayName": "Paulo Henrique",
      "userId": "13955216473685151557"
     },
     "user_tz": 180
    },
    "id": "CbHYzL7I0D08"
   },
   "outputs": [],
   "source": [
    "## Variaveis\n",
    "seeds = [13, 42]\n",
    "np.random.seed(0)\n",
    "num_classes = 1\n",
    "split_size = 0.2\n",
    "k = 5\n",
    "IMG_HEIGHT = 128\n",
    "IMG_WIDTH = 128\n",
    "IMG_CHANNELS = 1\n",
    "NUM_TEST_IMAGES = 10\n",
    "\n",
    "\n",
    "# Definindo o caminho da pasta\n",
    "imagens = 'Imagens1'\n",
    "mascara = 'mascaras1'\n",
    "\n",
    "# Listando todos os arquivos na pasta\n",
    "imagens_lista = os.listdir(imagens)\n",
    "mascaras_lista = os.listdir(mascara)\n",
    "\n",
    "# Inicializando listas para cada coluna\n",
    "imagens_id = []\n",
    "mascara_id = []\n"
   ]
  },
  {
   "cell_type": "code",
   "execution_count": null,
   "metadata": {
    "executionInfo": {
     "elapsed": 5,
     "status": "ok",
     "timestamp": 1730902299839,
     "user": {
      "displayName": "Paulo Henrique",
      "userId": "13955216473685151557"
     },
     "user_tz": 180
    },
    "id": "X0JJyZcU17-3"
   },
   "outputs": [],
   "source": [
    "# Loop pelos arquivos e preenchendo as listas com informações da pasta de imagens:\n",
    "for arquivo in imagens_lista:\n",
    "    # Nome e extensão do arquivo\n",
    "    imagens_id.append(arquivo)\n",
    "\n",
    "# Criando o DataFrame das imagens\n",
    "df_img = pd.DataFrame({\n",
    "    'Imagens_id': imagens_id\n",
    "})\n",
    "\n",
    "# Loop pelos arquivos e preenchendo as listas com informações da pasta de mascaras:\n",
    "for arquivo in mascaras_lista:\n",
    "    # Nome e extensão do arquivo\n",
    "    mascara_id.append(arquivo)\n",
    "\n",
    "# Criando o DataFrame das mascaras\n",
    "df_msk = pd.DataFrame({\n",
    "    'mascaras_id': mascara_id\n",
    "})"
   ]
  },
  {
   "cell_type": "code",
   "execution_count": null,
   "metadata": {
    "colab": {
     "base_uri": "https://localhost:8080/"
    },
    "executionInfo": {
     "elapsed": 267,
     "status": "ok",
     "timestamp": 1730902304006,
     "user": {
      "displayName": "Paulo Henrique",
      "userId": "13955216473685151557"
     },
     "user_tz": 180
    },
    "id": "pCc6FQYG2CMD",
    "outputId": "1a2bef3b-b966-472c-9ae1-b388430ab300"
   },
   "outputs": [],
   "source": [
    "print(df_img.head(10))\n",
    "print(df_img.shape)\n",
    "\n",
    "print(df_msk.head(10))\n",
    "print(df_msk.shape)"
   ]
  },
  {
   "cell_type": "code",
   "execution_count": null,
   "metadata": {
    "executionInfo": {
     "elapsed": 242,
     "status": "ok",
     "timestamp": 1730902307525,
     "user": {
      "displayName": "Paulo Henrique",
      "userId": "13955216473685151557"
     },
     "user_tz": 180
    },
    "id": "U4qWXWcb2K6m"
   },
   "outputs": [],
   "source": [
    "# Get lists of images and their masks.\n",
    "\n",
    "image_id_list = list(df_img['Imagens_id'])\n",
    "mask_id_list = list(df_msk['mascaras_id'])\n",
    "\n",
    "# Create empty arrays\n",
    "\n",
    "X = np.zeros((len(image_id_list), IMG_HEIGHT, IMG_WIDTH, IMG_CHANNELS), dtype=np.uint8)\n",
    "\n",
    "y = np.zeros((len(mask_id_list), IMG_HEIGHT, IMG_WIDTH, 1), dtype=bool)\n",
    "\n",
    "X_test = np.zeros((NUM_TEST_IMAGES, IMG_HEIGHT, IMG_WIDTH, IMG_CHANNELS), dtype=np.uint8)"
   ]
  },
  {
   "cell_type": "code",
   "execution_count": null,
   "metadata": {
    "colab": {
     "base_uri": "https://localhost:8080/"
    },
    "executionInfo": {
     "elapsed": 4503,
     "status": "ok",
     "timestamp": 1730902313978,
     "user": {
      "displayName": "Paulo Henrique",
      "userId": "13955216473685151557"
     },
     "user_tz": 180
    },
    "id": "pjS3s6l82TVA",
    "outputId": "910a3f0a-6ee1-4598-9bdd-185c1bee9872"
   },
   "outputs": [],
   "source": [
    "# X imagens\n",
    "\n",
    "for i, imagens_id in enumerate(image_id_list):\n",
    "\n",
    "    path_image = 'Imagens1/' + imagens_id\n",
    "\n",
    "    # read the image using skimage\n",
    "    image = imread(path_image)\n",
    "\n",
    "    # resize the image\n",
    "    image = resize(image, (IMG_HEIGHT, IMG_WIDTH), mode='constant', preserve_range=True)\n",
    "\n",
    "    # use np.expand dims to add a channel axis so the shape becomes (IMG_HEIGHT, IMG_WIDTH, 1)\n",
    "    image = np.expand_dims(image, axis=-1)\n",
    "\n",
    "    # insert the image into X_train\n",
    "    X[i] = image\n",
    "\n",
    "print(X.shape)"
   ]
  },
  {
   "cell_type": "code",
   "execution_count": null,
   "metadata": {
    "colab": {
     "base_uri": "https://localhost:8080/"
    },
    "executionInfo": {
     "elapsed": 28372,
     "status": "ok",
     "timestamp": 1730902346900,
     "user": {
      "displayName": "Paulo Henrique",
      "userId": "13955216473685151557"
     },
     "user_tz": 180
    },
    "id": "WWZ25FAh3Adv",
    "outputId": "5cd47d08-0c3d-4830-d3c6-551858309271"
   },
   "outputs": [],
   "source": [
    "# Y classes (mascras)\n",
    "\n",
    "\n",
    "for i, mascara_id in enumerate(mask_id_list):\n",
    "\n",
    "    path_mask = 'mascaras1/' + mascara_id\n",
    "\n",
    "    # read the image using skimage\n",
    "    mask = imread(path_mask)\n",
    "    mask = (mask >= 250)\n",
    "\n",
    "    # resize the image\n",
    "    mask = resize(mask, (IMG_HEIGHT, IMG_WIDTH), mode='constant', preserve_range=True)\n",
    "\n",
    "    # use np.expand dims to add a channel axis so the shape becomes (IMG_HEIGHT, IMG_WIDTH, 1)\n",
    "    mask = np.expand_dims(mask, axis=-1)\n",
    "\n",
    "    # insert the image into Y_Train\n",
    "    y[i] = mask\n",
    "\n",
    "print(y.shape)"
   ]
  },
  {
   "cell_type": "code",
   "execution_count": null,
   "metadata": {
    "colab": {
     "base_uri": "https://localhost:8080/",
     "height": 957
    },
    "executionInfo": {
     "elapsed": 552,
     "status": "ok",
     "timestamp": 1730902351582,
     "user": {
      "displayName": "Paulo Henrique",
      "userId": "13955216473685151557"
     },
     "user_tz": 180
    },
    "id": "QDxtX9dp3hq5",
    "outputId": "17be16cf-ca2d-40ad-9217-c40ef4a51ce0"
   },
   "outputs": [],
   "source": [
    "# Sample image and Ground-Truth Label from dataset\n",
    "\n",
    "image_x = random.randint(0, len(X))\n",
    "plt.axis(\"off\")\n",
    "imshow(X[image_x])\n",
    "plt.show()\n",
    "plt.axis(\"off\")\n",
    "imshow(np.squeeze(y[image_x]))\n",
    "plt.show()"
   ]
  },
  {
   "cell_type": "code",
   "execution_count": null,
   "metadata": {
    "colab": {
     "base_uri": "https://localhost:8080/"
    },
    "executionInfo": {
     "elapsed": 4510,
     "status": "ok",
     "timestamp": 1730902359902,
     "user": {
      "displayName": "Paulo Henrique",
      "userId": "13955216473685151557"
     },
     "user_tz": 180
    },
    "id": "FKqMXDvb7HQC",
    "outputId": "4dc5cacf-4ccb-453f-ce71-fd9dda985bef"
   },
   "outputs": [],
   "source": [
    "!pip install keras-unet-collection\n",
    "from keras_unet_collection import models\n"
   ]
  },
  {
   "cell_type": "code",
   "execution_count": null,
   "metadata": {
    "colab": {
     "base_uri": "https://localhost:8080/"
    },
    "executionInfo": {
     "elapsed": 26730,
     "status": "ok",
     "timestamp": 1730902401319,
     "user": {
      "displayName": "Paulo Henrique",
      "userId": "13955216473685151557"
     },
     "user_tz": 180
    },
    "id": "fg3ZGzPdi3rV",
    "outputId": "9720636a-86d4-4c72-ed79-f74677b78f4b"
   },
   "outputs": [],
   "source": [
    "acc = []\n",
    "jacc = []\n",
    "f1 = []\n",
    "prec = []\n",
    "rec = []\n",
    "\n",
    "\n",
    "for f in range(1, len(seeds)):\n",
    "    X_train, X_val, y_train, y_val = train_test_split(X, y, test_size=split_size, random_state=seeds[f])\n",
    "\n",
    "\n",
    "    model = models.unet_plus_2d((128, 128, 1), [16, 32, 64, 128], n_labels=1,\n",
    "                            stack_num_down=2, stack_num_up=2,\n",
    "                            activation='LeakyReLU', output_activation='Sigmoid',\n",
    "                            batch_norm=False, pool='max', unpool=False, deep_supervision=True, name='xnet')\n",
    "\n",
    "    # Define metrics for each output\n",
    "    metrics = ['accuracy', tf.keras.metrics.Recall(name='recall')]\n",
    "    metrics_dict = {output_name: metrics for output_name in model.output_names}\n",
    "\n",
    "    model.compile(\n",
    "    optimizer='adam',\n",
    "    loss='binary_crossentropy',  # Use a single loss function for the final output\n",
    "    metrics= metrics_dict\n",
    "     )\n",
    "    checkpoint_filepath = 'model1_' + str(f+1)+'fold.keras'\n",
    "    callbacks = [\n",
    "            tf.keras.callbacks.EarlyStopping(patience=3, monitor='val_loss'),\n",
    "            tf.keras.callbacks.TensorBoard(log_dir='logs'),\n",
    "            tf.keras.callbacks.ModelCheckpoint(\n",
    "                filepath=checkpoint_filepath,\n",
    "                save_weights_only=False,\n",
    "                monitor='val_recall',\n",
    "                mode='max',\n",
    "                save_best_only=True,\n",
    "                verbose=1)]\n",
    "\n",
    "    model.fit(X_train, y_train, validation_data=(X_val,y_val), batch_size=16, epochs=5, callbacks=callbacks)\n",
    "\n",
    "    for i in range(0, len(X_val)):\n",
    "        sample_image = X_val[i]\n",
    "        sample_mask = y_val[i].astype(np.uint8).flatten()\n",
    "        prediction = model.predict(sample_image[tf.newaxis, ...],verbose=0)[0]\n",
    "        predicted_mask = (prediction > 0.5).astype(np.uint8).flatten()\n",
    "\n",
    "        acc.append(accuracy_score(sample_mask, predicted_mask))\n",
    "        jacc.append(jaccard_score(sample_mask, predicted_mask))\n",
    "        f1.append(f1_score(sample_mask, predicted_mask))\n",
    "        prec.append(precision_score(sample_mask, predicted_mask))\n",
    "        rec.append(recall_score(sample_mask, predicted_mask))\n",
    "\n",
    "    del model\n"
   ]
  },
  {
   "cell_type": "code",
   "execution_count": null,
   "metadata": {},
   "outputs": [],
   "source": [
    "predicted_mask.shape"
   ]
  },
  {
   "cell_type": "code",
   "execution_count": null,
   "metadata": {},
   "outputs": [],
   "source": []
  }
 ],
 "metadata": {
  "colab": {
   "authorship_tag": "ABX9TyNWRdBNuQ2FoEs/0/lwBJAa",
   "mount_file_id": "1ohltjmem3TYSp1NREDHGSq2LwvyRfiAG",
   "provenance": []
  },
  "kernelspec": {
   "display_name": "Python 3 (ipykernel)",
   "language": "python",
   "name": "python3"
  },
  "language_info": {
   "codemirror_mode": {
    "name": "ipython",
    "version": 3
   },
   "file_extension": ".py",
   "mimetype": "text/x-python",
   "name": "python",
   "nbconvert_exporter": "python",
   "pygments_lexer": "ipython3",
   "version": "3.9.16"
  }
 },
 "nbformat": 4,
 "nbformat_minor": 4
}
