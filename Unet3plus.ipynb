{
 "cells": [
  {
   "cell_type": "code",
   "execution_count": 1,
   "metadata": {
    "executionInfo": {
     "elapsed": 284,
     "status": "ok",
     "timestamp": 1730729585955,
     "user": {
      "displayName": "Paulo Henrique",
      "userId": "13955216473685151557"
     },
     "user_tz": 180
    },
    "id": "1JwwvaqGOwHP"
   },
   "outputs": [
    {
     "name": "stderr",
     "output_type": "stream",
     "text": [
      "2025-03-17 13:39:41.007941: E external/local_xla/xla/stream_executor/cuda/cuda_fft.cc:485] Unable to register cuFFT factory: Attempting to register factory for plugin cuFFT when one has already been registered\n",
      "2025-03-17 13:39:41.018892: E external/local_xla/xla/stream_executor/cuda/cuda_dnn.cc:8454] Unable to register cuDNN factory: Attempting to register factory for plugin cuDNN when one has already been registered\n",
      "2025-03-17 13:39:41.022163: E external/local_xla/xla/stream_executor/cuda/cuda_blas.cc:1452] Unable to register cuBLAS factory: Attempting to register factory for plugin cuBLAS when one has already been registered\n",
      "2025-03-17 13:39:41.030622: I tensorflow/core/platform/cpu_feature_guard.cc:210] This TensorFlow binary is optimized to use available CPU instructions in performance-critical operations.\n",
      "To enable the following instructions: SSE4.1 SSE4.2 AVX AVX2 FMA, in other operations, rebuild TensorFlow with the appropriate compiler flags.\n"
     ]
    },
    {
     "ename": "ModuleNotFoundError",
     "evalue": "No module named 'tensorflow.keras'",
     "output_type": "error",
     "traceback": [
      "\u001b[0;31m---------------------------------------------------------------------------\u001b[0m",
      "\u001b[0;31mModuleNotFoundError\u001b[0m                       Traceback (most recent call last)",
      "Cell \u001b[0;32mIn[1], line 15\u001b[0m\n\u001b[1;32m     13\u001b[0m \u001b[38;5;28;01mimport\u001b[39;00m \u001b[38;5;21;01mtensorflow\u001b[39;00m \u001b[38;5;28;01mas\u001b[39;00m \u001b[38;5;21;01mtf\u001b[39;00m\n\u001b[1;32m     14\u001b[0m \u001b[38;5;28;01mfrom\u001b[39;00m \u001b[38;5;21;01mtensorflow\u001b[39;00m\u001b[38;5;21;01m.\u001b[39;00m\u001b[38;5;21;01mpython\u001b[39;00m\u001b[38;5;21;01m.\u001b[39;00m\u001b[38;5;21;01mkeras\u001b[39;00m\u001b[38;5;21;01m.\u001b[39;00m\u001b[38;5;21;01mbackend\u001b[39;00m \u001b[38;5;28;01mimport\u001b[39;00m set_session\n\u001b[0;32m---> 15\u001b[0m \u001b[38;5;28;01mfrom\u001b[39;00m \u001b[38;5;21;01mtensorflow\u001b[39;00m\u001b[38;5;21;01m.\u001b[39;00m\u001b[38;5;21;01mkeras\u001b[39;00m \u001b[38;5;28;01mimport\u001b[39;00m layers, Model\n\u001b[1;32m     17\u001b[0m \u001b[38;5;28;01mimport\u001b[39;00m \u001b[38;5;21;01mos\u001b[39;00m\n\u001b[1;32m     18\u001b[0m \u001b[38;5;28;01mimport\u001b[39;00m \u001b[38;5;21;01mrandom\u001b[39;00m\n",
      "\u001b[0;31mModuleNotFoundError\u001b[0m: No module named 'tensorflow.keras'"
     ]
    }
   ],
   "source": [
    "import os\n",
    "import numpy as np\n",
    "import cv2\n",
    "from sklearn.model_selection import train_test_split\n",
    "\n",
    "import pandas as pd\n",
    "import matplotlib.pyplot as plt\n",
    "import matplotlib\n",
    "\n",
    "from skimage.io import imread, imshow\n",
    "from skimage.transform import resize\n",
    "\n",
    "import tensorflow as tf\n",
    "from tensorflow.python.keras.backend import set_session\n",
    "from tensorflow.keras import layers, Model\n",
    "\n",
    "import os\n",
    "import random\n",
    "import numpy as np\n",
    "\n",
    "from tqdm import tqdm\n",
    "\n",
    "from PIL import Image\n",
    "from sklearn.metrics import accuracy_score\n",
    "from sklearn.metrics import jaccard_score\n",
    "from sklearn.metrics import f1_score\n",
    "from sklearn.metrics import precision_score\n",
    "from sklearn.metrics import recall_score"
   ]
  },
  {
   "cell_type": "code",
   "execution_count": 3,
   "metadata": {
    "executionInfo": {
     "elapsed": 281,
     "status": "ok",
     "timestamp": 1730730182204,
     "user": {
      "displayName": "Paulo Henrique",
      "userId": "13955216473685151557"
     },
     "user_tz": 180
    },
    "id": "CbHYzL7I0D08"
   },
   "outputs": [],
   "source": [
    "## Variaveis\n",
    "seeds = [13, 42, 1,83,76]\n",
    "np.random.seed(0)\n",
    "num_classes = 1\n",
    "split_size = 0.2\n",
    "k = 5\n",
    "IMG_HEIGHT = 128\n",
    "IMG_WIDTH = 128\n",
    "IMG_CHANNELS = 1\n",
    "NUM_TEST_IMAGES = 10\n",
    "\n",
    "\n",
    "# Definindo o caminho da pasta\n",
    "imagens = 'Imagens1/'\n",
    "mascara = 'mascaras1/'\n",
    "\n",
    "# Listando todos os arquivos na pasta\n",
    "imagens_lista = os.listdir(imagens)\n",
    "mascaras_lista = os.listdir(mascara)\n",
    "\n",
    "# Inicializando listas para cada coluna\n",
    "imagens_id = []\n",
    "mascara_id = []\n"
   ]
  },
  {
   "cell_type": "code",
   "execution_count": 4,
   "metadata": {
    "executionInfo": {
     "elapsed": 291,
     "status": "ok",
     "timestamp": 1730730184616,
     "user": {
      "displayName": "Paulo Henrique",
      "userId": "13955216473685151557"
     },
     "user_tz": 180
    },
    "id": "X0JJyZcU17-3"
   },
   "outputs": [],
   "source": [
    "# Loop pelos arquivos e preenchendo as listas com informações da pasta de imagens:\n",
    "for arquivo in imagens_lista:\n",
    "    # Nome e extensão do arquivo\n",
    "    imagens_id.append(arquivo)\n",
    "\n",
    "# Criando o DataFrame das imagens\n",
    "df_img = pd.DataFrame({\n",
    "    'Imagens_id': imagens_id\n",
    "})\n",
    "\n",
    "# Loop pelos arquivos e preenchendo as listas com informações da pasta de mascaras:\n",
    "for arquivo in mascaras_lista:\n",
    "    # Nome e extensão do arquivo\n",
    "    mascara_id.append(arquivo)\n",
    "\n",
    "# Criando o DataFrame das mascaras\n",
    "df_msk = pd.DataFrame({\n",
    "    'mascaras_id': mascara_id\n",
    "})"
   ]
  },
  {
   "cell_type": "code",
   "execution_count": 5,
   "metadata": {
    "colab": {
     "base_uri": "https://localhost:8080/"
    },
    "executionInfo": {
     "elapsed": 261,
     "status": "ok",
     "timestamp": 1730730186957,
     "user": {
      "displayName": "Paulo Henrique",
      "userId": "13955216473685151557"
     },
     "user_tz": 180
    },
    "id": "pCc6FQYG2CMD",
    "outputId": "addb2cfc-8479-42bd-d5a5-fd111f1d8bea"
   },
   "outputs": [
    {
     "name": "stdout",
     "output_type": "stream",
     "text": [
      "                          Imagens_id\n",
      "0  SIMCEPImages_A01_C1_F1_s01_w1.TIF\n",
      "1  SIMCEPImages_A01_C1_F1_s01_w2.TIF\n",
      "2  SIMCEPImages_A01_C1_F1_s02_w1.TIF\n",
      "3  SIMCEPImages_A01_C1_F1_s02_w2.TIF\n",
      "4  SIMCEPImages_A01_C1_F1_s03_w1.TIF\n",
      "5  SIMCEPImages_A01_C1_F1_s03_w2.TIF\n",
      "6  SIMCEPImages_A01_C1_F1_s04_w1.TIF\n",
      "7  SIMCEPImages_A01_C1_F1_s04_w2.TIF\n",
      "8  SIMCEPImages_A01_C1_F1_s05_w1.TIF\n",
      "9  SIMCEPImages_A01_C1_F1_s05_w2.TIF\n",
      "(100, 1)\n",
      "                         mascaras_id\n",
      "0  SIMCEPImages_A01_C1_F1_s01_w1.TIF\n",
      "1  SIMCEPImages_A01_C1_F1_s01_w2.TIF\n",
      "2  SIMCEPImages_A01_C1_F1_s02_w1.TIF\n",
      "3  SIMCEPImages_A01_C1_F1_s02_w2.TIF\n",
      "4  SIMCEPImages_A01_C1_F1_s03_w1.TIF\n",
      "5  SIMCEPImages_A01_C1_F1_s03_w2.TIF\n",
      "6  SIMCEPImages_A01_C1_F1_s04_w1.TIF\n",
      "7  SIMCEPImages_A01_C1_F1_s04_w2.TIF\n",
      "8  SIMCEPImages_A01_C1_F1_s05_w1.TIF\n",
      "9  SIMCEPImages_A01_C1_F1_s05_w2.TIF\n",
      "(100, 1)\n"
     ]
    }
   ],
   "source": [
    "print(df_img.head(10))\n",
    "print(df_img.shape)\n",
    "\n",
    "print(df_msk.head(10))\n",
    "print(df_msk.shape)"
   ]
  },
  {
   "cell_type": "code",
   "execution_count": 6,
   "metadata": {
    "executionInfo": {
     "elapsed": 265,
     "status": "ok",
     "timestamp": 1730730190361,
     "user": {
      "displayName": "Paulo Henrique",
      "userId": "13955216473685151557"
     },
     "user_tz": 180
    },
    "id": "U4qWXWcb2K6m"
   },
   "outputs": [],
   "source": [
    "# Get lists of images and their masks.\n",
    "\n",
    "image_id_list = list(df_img['Imagens_id'])\n",
    "mask_id_list = list(df_msk['mascaras_id'])\n",
    "\n",
    "# Create empty arrays\n",
    "\n",
    "X = np.zeros((len(image_id_list), IMG_HEIGHT, IMG_WIDTH, IMG_CHANNELS), dtype=np.uint8)\n",
    "\n",
    "y = np.zeros((len(mask_id_list), IMG_HEIGHT, IMG_WIDTH, 1), dtype=bool)\n",
    "\n",
    "X_test = np.zeros((NUM_TEST_IMAGES, IMG_HEIGHT, IMG_WIDTH, IMG_CHANNELS), dtype=np.uint8)"
   ]
  },
  {
   "cell_type": "code",
   "execution_count": 7,
   "metadata": {
    "colab": {
     "base_uri": "https://localhost:8080/"
    },
    "executionInfo": {
     "elapsed": 3533,
     "status": "ok",
     "timestamp": 1730730196047,
     "user": {
      "displayName": "Paulo Henrique",
      "userId": "13955216473685151557"
     },
     "user_tz": 180
    },
    "id": "pjS3s6l82TVA",
    "outputId": "e2faab2a-ecfe-4210-a560-d30ffb48928c"
   },
   "outputs": [
    {
     "name": "stdout",
     "output_type": "stream",
     "text": [
      "(100, 128, 128, 1)\n"
     ]
    }
   ],
   "source": [
    "# X imagens\n",
    "\n",
    "for i, imagens_id in enumerate(image_id_list):\n",
    "\n",
    "    path_image = 'Imagens1/' + imagens_id\n",
    "\n",
    "    # read the image using skimage\n",
    "    image = imread(path_image)\n",
    "\n",
    "    # resize the image\n",
    "    image = resize(image, (IMG_HEIGHT, IMG_WIDTH), mode='constant', preserve_range=True)\n",
    "\n",
    "    # use np.expand dims to add a channel axis so the shape becomes (IMG_HEIGHT, IMG_WIDTH, 1)\n",
    "    image = np.expand_dims(image, axis=-1)\n",
    "\n",
    "    # insert the image into X_train\n",
    "    X[i] = image\n",
    "\n",
    "print(X.shape)"
   ]
  },
  {
   "cell_type": "code",
   "execution_count": 8,
   "metadata": {
    "colab": {
     "base_uri": "https://localhost:8080/"
    },
    "executionInfo": {
     "elapsed": 1553,
     "status": "ok",
     "timestamp": 1730730200600,
     "user": {
      "displayName": "Paulo Henrique",
      "userId": "13955216473685151557"
     },
     "user_tz": 180
    },
    "id": "WWZ25FAh3Adv",
    "outputId": "d2a4a7bf-c564-497f-9aa3-473435a764ad"
   },
   "outputs": [
    {
     "name": "stdout",
     "output_type": "stream",
     "text": [
      "(100, 128, 128, 1)\n"
     ]
    }
   ],
   "source": [
    "# Y classes (mascras)\n",
    "\n",
    "\n",
    "for i, mascara_id in enumerate(mask_id_list):\n",
    "\n",
    "    path_mask = 'mascaras1/' + mascara_id\n",
    "\n",
    "    # read the image using skimage\n",
    "    mask = imread(path_mask)\n",
    "    mask = (mask >= 250)\n",
    "\n",
    "    # resize the image\n",
    "    mask = resize(mask, (IMG_HEIGHT, IMG_WIDTH), mode='constant', preserve_range=True)\n",
    "\n",
    "    # use np.expand dims to add a channel axis so the shape becomes (IMG_HEIGHT, IMG_WIDTH, 1)\n",
    "    mask = np.expand_dims(mask, axis=-1)\n",
    "\n",
    "    # insert the image into Y_Train\n",
    "    y[i] = mask\n",
    "\n",
    "print(y.shape)"
   ]
  },
  {
   "cell_type": "code",
   "execution_count": 9,
   "metadata": {
    "colab": {
     "base_uri": "https://localhost:8080/",
     "height": 957
    },
    "executionInfo": {
     "elapsed": 291,
     "status": "ok",
     "timestamp": 1730730204895,
     "user": {
      "displayName": "Paulo Henrique",
      "userId": "13955216473685151557"
     },
     "user_tz": 180
    },
    "id": "QDxtX9dp3hq5",
    "outputId": "fa512518-14ee-4455-c874-734936bf9f1e"
   },
   "outputs": [
    {
     "data": {
      "image/png": "[encoded data removed]",
      "text/plain": [
       "<Figure size 640x480 with 1 Axes>"
      ]
     },
     "metadata": {},
     "output_type": "display_data"
    },
    {
     "data": {
      "image/png": "[encoded data removed]",
      "text/plain": [
       "<Figure size 640x480 with 1 Axes>"
      ]
     },
     "metadata": {},
     "output_type": "display_data"
    }
   ],
   "source": [
    "# Sample image and Ground-Truth Label from dataset\n",
    "\n",
    "image_x = random.randint(0, len(X))\n",
    "plt.axis(\"off\")\n",
    "imshow(X[image_x])\n",
    "plt.show()\n",
    "plt.axis(\"off\")\n",
    "imshow(np.squeeze(y[image_x]))\n",
    "plt.show()"
   ]
  },
  {
   "cell_type": "code",
   "execution_count": 10,
   "metadata": {
    "executionInfo": {
     "elapsed": 266,
     "status": "ok",
     "timestamp": 1730730214057,
     "user": {
      "displayName": "Paulo Henrique",
      "userId": "13955216473685151557"
     },
     "user_tz": 180
    },
    "id": "BWbVI1GdfCD-"
   },
   "outputs": [],
   "source": [
    "from keras_unet_collection import models\n"
   ]
  },
  {
   "cell_type": "code",
   "execution_count": 11,
   "metadata": {
    "colab": {
     "base_uri": "https://localhost:8080/"
    },
    "id": "fg3ZGzPdi3rV",
    "outputId": "3e1ebda1-34fe-478b-e3e7-314c9702e1d3",
    "scrolled": true
   },
   "outputs": [
    {
     "name": "stdout",
     "output_type": "stream",
     "text": [
      "Automated hyper-parameter determination is applied with the following details:\n",
      "----------\n",
      "\tNumber of convolution filters after each full-scale skip connection: filter_num_skip = [64, 64, 64]\n",
      "\tNumber of channels of full-scale aggregated feature maps: filter_num_aggregate = 256\n"
     ]
    },
    {
     "name": "stderr",
     "output_type": "stream",
     "text": [
      "2024-11-04 13:46:54.510731: I external/local_xla/xla/stream_executor/cuda/cuda_executor.cc:984] could not open file to read NUMA node: /sys/bus/pci/devices/0000:01:00.0/numa_node\n",
      "Your kernel may have been built without NUMA support.\n",
      "2024-11-04 13:46:54.678850: I external/local_xla/xla/stream_executor/cuda/cuda_executor.cc:984] could not open file to read NUMA node: /sys/bus/pci/devices/0000:01:00.0/numa_node\n",
      "Your kernel may have been built without NUMA support.\n",
      "2024-11-04 13:46:54.678919: I external/local_xla/xla/stream_executor/cuda/cuda_executor.cc:984] could not open file to read NUMA node: /sys/bus/pci/devices/0000:01:00.0/numa_node\n",
      "Your kernel may have been built without NUMA support.\n",
      "2024-11-04 13:46:54.682237: I external/local_xla/xla/stream_executor/cuda/cuda_executor.cc:984] could not open file to read NUMA node: /sys/bus/pci/devices/0000:01:00.0/numa_node\n",
      "Your kernel may have been built without NUMA support.\n",
      "2024-11-04 13:46:54.682299: I external/local_xla/xla/stream_executor/cuda/cuda_executor.cc:984] could not open file to read NUMA node: /sys/bus/pci/devices/0000:01:00.0/numa_node\n",
      "Your kernel may have been built without NUMA support.\n",
      "2024-11-04 13:46:54.682318: I external/local_xla/xla/stream_executor/cuda/cuda_executor.cc:984] could not open file to read NUMA node: /sys/bus/pci/devices/0000:01:00.0/numa_node\n",
      "Your kernel may have been built without NUMA support.\n",
      "2024-11-04 13:46:56.037811: I external/local_xla/xla/stream_executor/cuda/cuda_executor.cc:984] could not open file to read NUMA node: /sys/bus/pci/devices/0000:01:00.0/numa_node\n",
      "Your kernel may have been built without NUMA support.\n",
      "2024-11-04 13:46:56.037878: I external/local_xla/xla/stream_executor/cuda/cuda_executor.cc:984] could not open file to read NUMA node: /sys/bus/pci/devices/0000:01:00.0/numa_node\n",
      "Your kernel may have been built without NUMA support.\n",
      "2024-11-04 13:46:56.037884: I tensorflow/core/common_runtime/gpu/gpu_device.cc:2019] Could not identify NUMA node of platform GPU id 0, defaulting to 0.  Your kernel may not have been built with NUMA support.\n",
      "2024-11-04 13:46:56.037914: I external/local_xla/xla/stream_executor/cuda/cuda_executor.cc:984] could not open file to read NUMA node: /sys/bus/pci/devices/0000:01:00.0/numa_node\n",
      "Your kernel may have been built without NUMA support.\n",
      "2024-11-04 13:46:56.038470: I tensorflow/core/common_runtime/gpu/gpu_device.cc:1928] Created device /job:localhost/replica:0/task:0/device:GPU:0 with 9332 MB memory:  -> device: 0, name: NVIDIA GeForce RTX 4070, pci bus id: 0000:01:00.0, compute capability: 8.9\n"
     ]
    },
    {
     "name": "stdout",
     "output_type": "stream",
     "text": [
      "----------\n",
      "deep_supervision = True\n",
      "names of output tensors are listed as follows (\"sup0\" is the shallowest supervision layer;\n",
      "\"final\" is the final output layer):\n",
      "\n",
      "\tunet3plus_output_sup0_activation\n",
      "\tunet3plus_output_sup1_activation\n",
      "\tunet3plus_output_sup2_activation\n",
      "\tunet3plus_output_final_activation\n",
      "Epoch 1/5\n"
     ]
    },
    {
     "name": "stderr",
     "output_type": "stream",
     "text": [
      "WARNING: All log messages before absl::InitializeLog() is called are written to STDERR\n",
      "I0000 00:00:1730738823.724045  326860 service.cc:145] XLA service 0x4f216cd0 initialized for platform CUDA (this does not guarantee that XLA will be used). Devices:\n",
      "I0000 00:00:1730738823.724085  326860 service.cc:153]   StreamExecutor device (0): NVIDIA GeForce RTX 4070, Compute Capability 8.9\n",
      "2024-11-04 13:47:03.998119: I tensorflow/compiler/mlir/tensorflow/utils/dump_mlir_util.cc:268] disabling MLIR crash reproducer, set env var `MLIR_CRASH_REPRODUCER_DIRECTORY` to enable.\n",
      "2024-11-04 13:47:07.954838: I external/local_xla/xla/stream_executor/cuda/cuda_dnn.cc:465] Loaded cuDNN version 8907\n",
      "2024-11-04 13:47:17.864483: W external/local_tsl/tsl/framework/bfc_allocator.cc:296] Allocator (GPU_0_bfc) ran out of memory trying to allocate 25.72GiB with freed_by_count=0. The caller indicates that this is not a failure, but this may mean that there could be performance gains if more memory were available.\n",
      "2024-11-04 13:47:27.680287: W external/local_tsl/tsl/framework/bfc_allocator.cc:296] Allocator (GPU_0_bfc) ran out of memory trying to allocate 24.45GiB with freed_by_count=0. The caller indicates that this is not a failure, but this may mean that there could be performance gains if more memory were available.\n",
      "I0000 00:00:1730738851.856581  326860 device_compiler.h:188] Compiled cluster using XLA!  This line is logged at most once for the lifetime of the process.\n"
     ]
    },
    {
     "name": "stdout",
     "output_type": "stream",
     "text": [
      "\u001b[1m5/5\u001b[0m \u001b[32m━━━━━━━━━━━━━━━━━━━━\u001b[0m\u001b[37m\u001b[0m \u001b[1m0s\u001b[0m 129ms/step - loss: 2.6369 - unet3plus_output_final_activation_accuracy: 0.6187 - unet3plus_output_final_activation_recall: 0.6536"
     ]
    },
    {
     "name": "stderr",
     "output_type": "stream",
     "text": [
      "2024-11-04 13:47:36.267658: W external/local_tsl/tsl/framework/bfc_allocator.cc:296] Allocator (GPU_0_bfc) ran out of memory trying to allocate 6.21GiB with freed_by_count=0. The caller indicates that this is not a failure, but this may mean that there could be performance gains if more memory were available.\n",
      "2024-11-04 13:47:37.291775: W external/local_tsl/tsl/framework/bfc_allocator.cc:296] Allocator (GPU_0_bfc) ran out of memory trying to allocate 24.58GiB with freed_by_count=0. The caller indicates that this is not a failure, but this may mean that there could be performance gains if more memory were available.\n"
     ]
    },
    {
     "name": "stdout",
     "output_type": "stream",
     "text": [
      "\u001b[1m5/5\u001b[0m \u001b[32m━━━━━━━━━━━━━━━━━━━━\u001b[0m\u001b[37m\u001b[0m \u001b[1m41s\u001b[0m 1s/step - loss: 2.5802 - unet3plus_output_final_activation_accuracy: 0.6516 - unet3plus_output_final_activation_recall: 0.6554 - val_loss: 3.2792 - val_unet3plus_output_final_activation_accuracy: 0.9505 - val_unet3plus_output_final_activation_recall: 0.9995\n",
      "Epoch 2/5\n",
      "\u001b[1m1/5\u001b[0m \u001b[32m━━━━\u001b[0m\u001b[37m━━━━━━━━━━━━━━━━\u001b[0m \u001b[1m0s\u001b[0m 120ms/step - loss: 1.6363 - unet3plus_output_final_activation_accuracy: 0.9920 - unet3plus_output_final_activation_recall: 0.9932"
     ]
    },
    {
     "name": "stderr",
     "output_type": "stream",
     "text": [
      "/home/mbouzon/miniconda3/envs/tf/lib/python3.9/site-packages/keras/src/callbacks/model_checkpoint.py:206: UserWarning: Can save best model only with val_recall available, skipping.\n",
      "  self._save_model(epoch=epoch, batch=None, logs=logs)\n"
     ]
    },
    {
     "name": "stdout",
     "output_type": "stream",
     "text": [
      "\u001b[1m5/5\u001b[0m \u001b[32m━━━━━━━━━━━━━━━━━━━━\u001b[0m\u001b[37m\u001b[0m \u001b[1m1s\u001b[0m 123ms/step - loss: 1.5814 - unet3plus_output_final_activation_accuracy: 0.9940 - unet3plus_output_final_activation_recall: 0.8751 - val_loss: 3.0655 - val_unet3plus_output_final_activation_accuracy: 0.9590 - val_unet3plus_output_final_activation_recall: 0.9989\n",
      "Epoch 3/5\n",
      "\u001b[1m5/5\u001b[0m \u001b[32m━━━━━━━━━━━━━━━━━━━━\u001b[0m\u001b[37m\u001b[0m \u001b[1m1s\u001b[0m 123ms/step - loss: 1.4528 - unet3plus_output_final_activation_accuracy: 0.9971 - unet3plus_output_final_activation_recall: 0.9243 - val_loss: 4.5456 - val_unet3plus_output_final_activation_accuracy: 0.9729 - val_unet3plus_output_final_activation_recall: 0.9879\n",
      "Epoch 4/5\n",
      "\u001b[1m5/5\u001b[0m \u001b[32m━━━━━━━━━━━━━━━━━━━━\u001b[0m\u001b[37m\u001b[0m \u001b[1m1s\u001b[0m 123ms/step - loss: 1.4073 - unet3plus_output_final_activation_accuracy: 0.9977 - unet3plus_output_final_activation_recall: 0.9210 - val_loss: 4.6915 - val_unet3plus_output_final_activation_accuracy: 0.9852 - val_unet3plus_output_final_activation_recall: 0.9868\n",
      "Epoch 5/5\n",
      "\u001b[1m5/5\u001b[0m \u001b[32m━━━━━━━━━━━━━━━━━━━━\u001b[0m\u001b[37m\u001b[0m \u001b[1m1s\u001b[0m 125ms/step - loss: 1.3809 - unet3plus_output_final_activation_accuracy: 0.9980 - unet3plus_output_final_activation_recall: 0.9207 - val_loss: 4.2586 - val_unet3plus_output_final_activation_accuracy: 0.9894 - val_unet3plus_output_final_activation_recall: 0.9859\n"
     ]
    },
    {
     "name": "stderr",
     "output_type": "stream",
     "text": [
      "2024-11-04 13:47:42.269459: W external/local_tsl/tsl/framework/bfc_allocator.cc:296] Allocator (GPU_0_bfc) ran out of memory trying to allocate 6.13GiB with freed_by_count=0. The caller indicates that this is not a failure, but this may mean that there could be performance gains if more memory were available.\n",
      "2024-11-04 13:47:42.734901: W external/local_tsl/tsl/framework/bfc_allocator.cc:296] Allocator (GPU_0_bfc) ran out of memory trying to allocate 24.30GiB with freed_by_count=0. The caller indicates that this is not a failure, but this may mean that there could be performance gains if more memory were available.\n"
     ]
    },
    {
     "name": "stdout",
     "output_type": "stream",
     "text": [
      "Automated hyper-parameter determination is applied with the following details:\n",
      "----------\n",
      "\tNumber of convolution filters after each full-scale skip connection: filter_num_skip = [64, 64, 64]\n",
      "\tNumber of channels of full-scale aggregated feature maps: filter_num_aggregate = 256\n",
      "----------\n",
      "deep_supervision = True\n",
      "names of output tensors are listed as follows (\"sup0\" is the shallowest supervision layer;\n",
      "\"final\" is the final output layer):\n",
      "\n",
      "\tunet3plus_output_sup0_activation\n",
      "\tunet3plus_output_sup1_activation\n",
      "\tunet3plus_output_sup2_activation\n",
      "\tunet3plus_output_final_activation\n",
      "Epoch 1/5\n",
      "\u001b[1m5/5\u001b[0m \u001b[32m━━━━━━━━━━━━━━━━━━━━\u001b[0m\u001b[37m\u001b[0m \u001b[1m13s\u001b[0m 499ms/step - loss: 2.6749 - unet3plus_output_final_activation_accuracy: 0.9357 - unet3plus_output_final_activation_recall: 0.4708 - val_loss: 4.2736 - val_unet3plus_output_final_activation_accuracy: 0.9644 - val_unet3plus_output_final_activation_recall: 0.9241\n",
      "Epoch 2/5\n",
      "\u001b[1m1/5\u001b[0m \u001b[32m━━━━\u001b[0m\u001b[37m━━━━━━━━━━━━━━━━\u001b[0m \u001b[1m0s\u001b[0m 119ms/step - loss: 2.0700 - unet3plus_output_final_activation_accuracy: 0.9905 - unet3plus_output_final_activation_recall: 0.5243"
     ]
    },
    {
     "name": "stderr",
     "output_type": "stream",
     "text": [
      "/home/mbouzon/miniconda3/envs/tf/lib/python3.9/site-packages/keras/src/callbacks/model_checkpoint.py:206: UserWarning: Can save best model only with val_recall available, skipping.\n",
      "  self._save_model(epoch=epoch, batch=None, logs=logs)\n"
     ]
    },
    {
     "name": "stdout",
     "output_type": "stream",
     "text": [
      "\u001b[1m5/5\u001b[0m \u001b[32m━━━━━━━━━━━━━━━━━━━━\u001b[0m\u001b[37m\u001b[0m \u001b[1m1s\u001b[0m 123ms/step - loss: 2.0509 - unet3plus_output_final_activation_accuracy: 0.9925 - unet3plus_output_final_activation_recall: 0.7657 - val_loss: 12.4431 - val_unet3plus_output_final_activation_accuracy: 0.7460 - val_unet3plus_output_final_activation_recall: 0.9935\n",
      "Epoch 3/5\n",
      "\u001b[1m5/5\u001b[0m \u001b[32m━━━━━━━━━━━━━━━━━━━━\u001b[0m\u001b[37m\u001b[0m \u001b[1m1s\u001b[0m 122ms/step - loss: 2.0093 - unet3plus_output_final_activation_accuracy: 0.9963 - unet3plus_output_final_activation_recall: 0.8179 - val_loss: 11.7511 - val_unet3plus_output_final_activation_accuracy: 0.6505 - val_unet3plus_output_final_activation_recall: 0.9977\n",
      "Epoch 4/5\n",
      "\u001b[1m5/5\u001b[0m \u001b[32m━━━━━━━━━━━━━━━━━━━━\u001b[0m\u001b[37m\u001b[0m \u001b[1m1s\u001b[0m 123ms/step - loss: 1.9914 - unet3plus_output_final_activation_accuracy: 0.9974 - unet3plus_output_final_activation_recall: 0.9188 - val_loss: 20.4937 - val_unet3plus_output_final_activation_accuracy: 0.6306 - val_unet3plus_output_final_activation_recall: 0.9954\n",
      "Automated hyper-parameter determination is applied with the following details:\n",
      "----------\n",
      "\tNumber of convolution filters after each full-scale skip connection: filter_num_skip = [64, 64, 64]\n",
      "\tNumber of channels of full-scale aggregated feature maps: filter_num_aggregate = 256\n",
      "----------\n",
      "deep_supervision = True\n",
      "names of output tensors are listed as follows (\"sup0\" is the shallowest supervision layer;\n",
      "\"final\" is the final output layer):\n",
      "\n",
      "\tunet3plus_output_sup0_activation\n",
      "\tunet3plus_output_sup1_activation\n",
      "\tunet3plus_output_sup2_activation\n",
      "\tunet3plus_output_final_activation\n",
      "Epoch 1/5\n",
      "\u001b[1m5/5\u001b[0m \u001b[32m━━━━━━━━━━━━━━━━━━━━\u001b[0m\u001b[37m\u001b[0m \u001b[1m13s\u001b[0m 493ms/step - loss: 2.8011 - unet3plus_output_final_activation_accuracy: 0.6365 - unet3plus_output_final_activation_recall: 0.5478 - val_loss: 3.4835 - val_unet3plus_output_final_activation_accuracy: 0.9747 - val_unet3plus_output_final_activation_recall: 0.3486\n",
      "Epoch 2/5\n",
      "\u001b[1m1/5\u001b[0m \u001b[32m━━━━\u001b[0m\u001b[37m━━━━━━━━━━━━━━━━\u001b[0m \u001b[1m0s\u001b[0m 119ms/step - loss: 2.1117 - unet3plus_output_final_activation_accuracy: 0.9948 - unet3plus_output_final_activation_recall: 0.6405"
     ]
    },
    {
     "name": "stderr",
     "output_type": "stream",
     "text": [
      "/home/mbouzon/miniconda3/envs/tf/lib/python3.9/site-packages/keras/src/callbacks/model_checkpoint.py:206: UserWarning: Can save best model only with val_recall available, skipping.\n",
      "  self._save_model(epoch=epoch, batch=None, logs=logs)\n"
     ]
    },
    {
     "name": "stdout",
     "output_type": "stream",
     "text": [
      "\u001b[1m5/5\u001b[0m \u001b[32m━━━━━━━━━━━━━━━━━━━━\u001b[0m\u001b[37m\u001b[0m \u001b[1m1s\u001b[0m 123ms/step - loss: 2.0886 - unet3plus_output_final_activation_accuracy: 0.9949 - unet3plus_output_final_activation_recall: 0.7468 - val_loss: 3.8632 - val_unet3plus_output_final_activation_accuracy: 0.9787 - val_unet3plus_output_final_activation_recall: 0.2425\n",
      "Epoch 3/5\n",
      "\u001b[1m5/5\u001b[0m \u001b[32m━━━━━━━━━━━━━━━━━━━━\u001b[0m\u001b[37m\u001b[0m \u001b[1m1s\u001b[0m 122ms/step - loss: 2.0361 - unet3plus_output_final_activation_accuracy: 0.9964 - unet3plus_output_final_activation_recall: 0.8376 - val_loss: 3.5679 - val_unet3plus_output_final_activation_accuracy: 0.9830 - val_unet3plus_output_final_activation_recall: 0.5606\n",
      "Epoch 4/5\n",
      "\u001b[1m5/5\u001b[0m \u001b[32m━━━━━━━━━━━━━━━━━━━━\u001b[0m\u001b[37m\u001b[0m \u001b[1m1s\u001b[0m 123ms/step - loss: 2.0149 - unet3plus_output_final_activation_accuracy: 0.9976 - unet3plus_output_final_activation_recall: 0.8898 - val_loss: 3.5063 - val_unet3plus_output_final_activation_accuracy: 0.9870 - val_unet3plus_output_final_activation_recall: 0.6096\n",
      "Automated hyper-parameter determination is applied with the following details:\n",
      "----------\n",
      "\tNumber of convolution filters after each full-scale skip connection: filter_num_skip = [64, 64, 64]\n",
      "\tNumber of channels of full-scale aggregated feature maps: filter_num_aggregate = 256\n",
      "----------\n",
      "deep_supervision = True\n",
      "names of output tensors are listed as follows (\"sup0\" is the shallowest supervision layer;\n",
      "\"final\" is the final output layer):\n",
      "\n",
      "\tunet3plus_output_sup0_activation\n",
      "\tunet3plus_output_sup1_activation\n",
      "\tunet3plus_output_sup2_activation\n",
      "\tunet3plus_output_final_activation\n",
      "Epoch 1/5\n",
      "\u001b[1m5/5\u001b[0m \u001b[32m━━━━━━━━━━━━━━━━━━━━\u001b[0m\u001b[37m\u001b[0m \u001b[1m13s\u001b[0m 498ms/step - loss: 3.0354 - unet3plus_output_final_activation_accuracy: 0.4125 - unet3plus_output_final_activation_recall: 0.6814 - val_loss: 6.0655 - val_unet3plus_output_final_activation_accuracy: 0.8226 - val_unet3plus_output_final_activation_recall: 0.9970\n",
      "Epoch 2/5\n",
      "\u001b[1m1/5\u001b[0m \u001b[32m━━━━\u001b[0m\u001b[37m━━━━━━━━━━━━━━━━\u001b[0m \u001b[1m0s\u001b[0m 120ms/step - loss: 2.1295 - unet3plus_output_final_activation_accuracy: 0.9962 - unet3plus_output_final_activation_recall: 0.8703"
     ]
    },
    {
     "name": "stderr",
     "output_type": "stream",
     "text": [
      "/home/mbouzon/miniconda3/envs/tf/lib/python3.9/site-packages/keras/src/callbacks/model_checkpoint.py:206: UserWarning: Can save best model only with val_recall available, skipping.\n",
      "  self._save_model(epoch=epoch, batch=None, logs=logs)\n"
     ]
    },
    {
     "name": "stdout",
     "output_type": "stream",
     "text": [
      "\u001b[1m5/5\u001b[0m \u001b[32m━━━━━━━━━━━━━━━━━━━━\u001b[0m\u001b[37m\u001b[0m \u001b[1m1s\u001b[0m 124ms/step - loss: 2.0980 - unet3plus_output_final_activation_accuracy: 0.9946 - unet3plus_output_final_activation_recall: 0.7797 - val_loss: 20.2217 - val_unet3plus_output_final_activation_accuracy: 0.5131 - val_unet3plus_output_final_activation_recall: 0.9989\n",
      "Epoch 3/5\n",
      "\u001b[1m5/5\u001b[0m \u001b[32m━━━━━━━━━━━━━━━━━━━━\u001b[0m\u001b[37m\u001b[0m \u001b[1m1s\u001b[0m 123ms/step - loss: 2.0045 - unet3plus_output_final_activation_accuracy: 0.9967 - unet3plus_output_final_activation_recall: 0.8946 - val_loss: 15.4754 - val_unet3plus_output_final_activation_accuracy: 0.5899 - val_unet3plus_output_final_activation_recall: 0.9959\n",
      "Epoch 4/5\n",
      "\u001b[1m5/5\u001b[0m \u001b[32m━━━━━━━━━━━━━━━━━━━━\u001b[0m\u001b[37m\u001b[0m \u001b[1m1s\u001b[0m 123ms/step - loss: 1.9803 - unet3plus_output_final_activation_accuracy: 0.9962 - unet3plus_output_final_activation_recall: 0.9501 - val_loss: 5.3000 - val_unet3plus_output_final_activation_accuracy: 0.9482 - val_unet3plus_output_final_activation_recall: 0.9838\n",
      "Epoch 5/5\n",
      "\u001b[1m5/5\u001b[0m \u001b[32m━━━━━━━━━━━━━━━━━━━━\u001b[0m\u001b[37m\u001b[0m \u001b[1m1s\u001b[0m 123ms/step - loss: 1.9617 - unet3plus_output_final_activation_accuracy: 0.9962 - unet3plus_output_final_activation_recall: 0.7977 - val_loss: 15.6794 - val_unet3plus_output_final_activation_accuracy: 0.5767 - val_unet3plus_output_final_activation_recall: 0.9957\n"
     ]
    }
   ],
   "source": [
    "acc = []\n",
    "jacc = []\n",
    "f1 = []\n",
    "prec = []\n",
    "rec = []\n",
    "\n",
    "for f in range(1, len(seeds)):\n",
    "    X_train, X_val, y_train, y_val = train_test_split(X, y, test_size=split_size, random_state=seeds[f])\n",
    "\n",
    "    # Convert y_train and y_val to dictionaries to match the model's output format\n",
    "    y_train = {\n",
    "        'unet3plus_output_sup0_activation': y_train,\n",
    "        'unet3plus_output_sup1_activation': y_train,\n",
    "        'unet3plus_output_sup2_activation': y_train,\n",
    "        'unet3plus_output_final_activation': y_train\n",
    "    }\n",
    "    y_val = {\n",
    "        'unet3plus_output_sup0_activation': y_val,\n",
    "        'unet3plus_output_sup1_activation': y_val,\n",
    "        'unet3plus_output_sup2_activation': y_val,\n",
    "        'unet3plus_output_final_activation': y_val\n",
    "    }\n",
    "\n",
    "\n",
    "    model = models.unet_3plus_2d((128, 128, 1), n_labels=1, filter_num_down=[64, 128, 256, 512],\n",
    "                             filter_num_skip='auto', filter_num_aggregate='auto',\n",
    "                             stack_num_down=2, stack_num_up=1, activation='ReLU', output_activation='Sigmoid',\n",
    "                             batch_norm=True, pool='max', unpool=False, deep_supervision=True, name='unet3plus')\n",
    "\n",
    "    # Compile o modelo e especifique as métricas para cada saída, se necessário\n",
    "\n",
    "    model.compile(\n",
    "        optimizer='adam',\n",
    "        loss={\n",
    "            'unet3plus_output_sup0_activation': 'binary_crossentropy',\n",
    "            'unet3plus_output_sup1_activation': 'binary_crossentropy',\n",
    "            'unet3plus_output_sup2_activation': 'binary_crossentropy',\n",
    "            'unet3plus_output_final_activation': 'binary_crossentropy'\n",
    "        },\n",
    "        metrics={'unet3plus_output_final_activation': ['accuracy', tf.keras.metrics.Recall(name='recall')]}\n",
    "    )\n",
    "\n",
    "\n",
    "    checkpoint_filepath = 'model1_' + str(f+1)+'fold.keras'\n",
    "    callbacks = [\n",
    "            tf.keras.callbacks.EarlyStopping(patience=3, monitor='val_loss'),\n",
    "            tf.keras.callbacks.TensorBoard(log_dir='logs'),\n",
    "            tf.keras.callbacks.ModelCheckpoint(\n",
    "                filepath=checkpoint_filepath,\n",
    "                save_weights_only=False,\n",
    "                monitor='val_recall',\n",
    "                mode='max',\n",
    "                save_best_only=True,\n",
    "                verbose=1)]\n",
    "\n",
    "    model.fit(X_train, y_train, validation_data=(X_val,y_val), batch_size=16, epochs=5, callbacks=callbacks)\n",
    "\n",
    "    for i in range(0, len(X_val)):\n",
    "        sample_image = X_val[i]\n",
    "        sample_mask = y_val['unet3plus_output_final_activation'][i].astype(np.uint8).flatten()\n",
    "        prediction = model.predict(sample_image[tf.newaxis, ...],verbose=0)[0]\n",
    "        predicted_mask = (prediction > 0.5).astype(np.uint8).flatten()\n",
    "\n",
    "        acc.append(accuracy_score(sample_mask, predicted_mask))\n",
    "        jacc.append(jaccard_score(sample_mask, predicted_mask))\n",
    "        f1.append(f1_score(sample_mask, predicted_mask))\n",
    "        prec.append(precision_score(sample_mask, predicted_mask))\n",
    "        rec.append(recall_score(sample_mask, predicted_mask))\n",
    "\n",
    "    del model\n"
   ]
  },
  {
   "cell_type": "code",
   "execution_count": null,
   "metadata": {},
   "outputs": [],
   "source": []
  }
 ],
 "metadata": {
  "colab": {
   "authorship_tag": "ABX9TyNKft9WeNqPn5XrrA/GysnH",
   "mount_file_id": "1JFzmoKpviAbfxS7nbbmTDC-AqW1e_-9n",
   "provenance": []
  },
  "kernelspec": {
   "display_name": "Python 3 (ipykernel)",
   "language": "python",
   "name": "python3"
  },
  "language_info": {
   "codemirror_mode": {
    "name": "ipython",
    "version": 3
   },
   "file_extension": ".py",
   "mimetype": "text/x-python",
   "name": "python",
   "nbconvert_exporter": "python",
   "pygments_lexer": "ipython3",
   "version": "3.9.21"
  }
 },
 "nbformat": 4,
 "nbformat_minor": 4
}
